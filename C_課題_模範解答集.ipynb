{
  "nbformat": 4,
  "nbformat_minor": 0,
  "metadata": {
    "colab": {
      "provenance": []
    },
    "kernelspec": {
      "name": "python3",
      "display_name": "Python 3"
    },
    "language_info": {
      "name": "python"
    }
  },
  "cells": [
    {
      "cell_type": "code",
      "source": [
        "#@title 前処理コード { display-mode: \"form\"}\n",
        "#@markdown ※このセルの実行をお願いします※\n",
        "\n",
        "import os\n",
        "\n",
        "def submit_result(name, code_output, question_no):\n",
        "    import requests\n",
        "    text_no = \"c_ALL\"\n",
        "\n",
        "    # Google FormsのURL\n",
        "    FORM_URL = \"https://docs.google.com/forms/d/e/1FAIpQLSdIHcdAT0dqO9qoDWgwkmKHRIvz8aedslvk81f8em0aayInjQ/formResponse\"\n",
        "\n",
        "    # Formsの入力項目ID\n",
        "    data = {\n",
        "        'entry.1049158114': name,  # 学生ID用のエントリーID\n",
        "        'entry.1116133824': code_output,  # 実行結果用のエントリーID\n",
        "        'entry.1164627803': text_no, # テキスト番号のエントリーID\n",
        "        'entry.1429487951': question_no # 問題番号のエントリーID\n",
        "    }\n",
        "\n",
        "    try:\n",
        "        requests.post(FORM_URL, data=data)\n",
        "        print(\"結果を提出しました\")\n",
        "    except Exception as e:\n",
        "        print(f\"提出時にエラーが発生しました: {e}\")\n",
        "\n",
        "\n",
        "# def code_run():\n",
        "#     # コンパイルと実行の結果を全て1つのファイルに記録\n",
        "#     !{ gcc *.c -o program 2>&1 && echo \"---プログラム実行結果---\" && ./program 2>&1; } > result.txt\n",
        "#     !cat result.txt\n",
        "\n",
        "def compile_program():\n",
        "    \"\"\"\n",
        "    Cプログラムをコンパイルし、結果を result_compile.txt に保存。\n",
        "    コンパイルエラーがあれば表示。\n",
        "    \"\"\"\n",
        "    compile_command = (\n",
        "        \"gcc -fsanitize=address -fsanitize=undefined -g -O1 -Wall -Wextra -pedantic \"\n",
        "        \"-Wconversion -Werror *.c -o program 2> result_compile.txt\"\n",
        "    )\n",
        "    os.system(compile_command)\n",
        "\n",
        "    # コンパイル結果を表示\n",
        "    with open(\"result_compile.txt\", \"r\") as f:\n",
        "        compile_output = f.read()\n",
        "\n",
        "    if compile_output.strip():  # コンパイルエラーがあれば内容を表示\n",
        "        print(\"=== コンパイル時のエラー ===\")\n",
        "        print(compile_output)\n",
        "        return False\n",
        "    else:\n",
        "        print(\"=== コンパイル成功 ===\")\n",
        "        return True\n",
        "\n",
        "def run_program():\n",
        "    \"\"\"\n",
        "    実行可能ファイルを実行し、結果を result_run.txt に保存。\n",
        "    実行時のエラーがあれば表示。\n",
        "    \"\"\"\n",
        "    if not os.path.exists(\"program\"):\n",
        "        print(\"エラー: 実行ファイルが存在しません。コンパイルが失敗しています。\")\n",
        "        return\n",
        "\n",
        "    run_command = \"./program > result_run.txt 2>&1\"\n",
        "    os.system(run_command)\n",
        "\n",
        "    # 実行結果を表示\n",
        "    with open(\"result_run.txt\", \"r\") as f:\n",
        "        run_output = f.read()\n",
        "\n",
        "    print(\"=== プログラムの実行結果 ===\")\n",
        "    print(run_output)\n",
        "\n",
        "\n",
        "\n",
        "def submit(question_no):\n",
        "  if name == \"\" or name == \"あなたの名前\":\n",
        "    print(\"nameに名前を入力し、再度提出してください。\")\n",
        "  else:\n",
        "    try:\n",
        "        with open('result_run.txt', 'r') as f:\n",
        "            result = f.read()\n",
        "        submit_result(name, result, question_no)\n",
        "    except FileNotFoundError:\n",
        "        print(\"result_run.txtが見つかりません。まずプログラムを実行してください。\")\n",
        "\n",
        "print(\"実行されました\")"
      ],
      "metadata": {
        "id": "8gAzt8MEiEG6"
      },
      "execution_count": null,
      "outputs": []
    },
    {
      "cell_type": "markdown",
      "source": [
        "Github上のURLをエンコードするコード："
      ],
      "metadata": {
        "id": "z9ufboO452eG"
      }
    },
    {
      "cell_type": "code",
      "source": [
        "import base64\n",
        "\n",
        "# 元のURL\n",
        "url = \"https://XXXXXX\"\n",
        "\n",
        "# GitHubのURLをraw.githubusercontent.comのURLに変換\n",
        "# blobをrawに変更し、githubをraw.githubusercontent.comに変更\n",
        "raw_url = url.replace(\"github.com\", \"raw.githubusercontent.com\").replace(\"/blob/\", \"/\")\n",
        "\n",
        "# Base64エンコード\n",
        "encoded_url = base64.b64encode(raw_url.encode()).decode()\n",
        "\n",
        "print(\"エンコードされたURL:\")\n",
        "print(encoded_url)"
      ],
      "metadata": {
        "colab": {
          "base_uri": "https://localhost:8080/"
        },
        "id": "78U4t1NG51X3",
        "outputId": "2d5e67f4-89b5-48f3-b26d-4723b51f4af6"
      },
      "execution_count": 1,
      "outputs": [
        {
          "output_type": "stream",
          "name": "stdout",
          "text": [
            "エンコードされたURL:\n",
            "aHR0cHM6Ly9YWFhYWFg=\n"
          ]
        }
      ]
    },
    {
      "cell_type": "markdown",
      "source": [
        "C_1 課題1\n",
        "1. `%%writefile main.c` はGoogle Colab上でCのソースファイルを作成するための特別なコマンドです。\n",
        "\n",
        "2. プログラムの構造：<br>\n",
        "※ 詳細は別のテキストで解説していきます。<br>\n",
        "   - `char favorite_food[256]` で256文字まで保存できる文字列配列を用意しています\n",
        "   - `strcpy()` 関数で好きな食べ物の名前を設定できます\n",
        "   - `printf()` で結果を出力します\n",
        "\n",
        "実行の際は、\"りんご\"の部分を自分の好きな食べ物に書き換えてください。例えば「カレー」や「ラーメン」などに変更できます。\n",
        "\n",
        "このプログラムは、課題提出方法を学ぶためのものです。ぜひ色々な食べ物名を試してみてください。\n",
        "\n",
        "これからのテキストもがんばってくださいね！"
      ],
      "metadata": {
        "id": "t0gvEtx53zve"
      }
    },
    {
      "cell_type": "markdown",
      "source": [
        "C_2 課題1\n",
        "\n",
        "1. 以下のコードには2つの文法エラーがあります。エラーを見つけて修正してください。\n",
        "\n",
        "期待する実行結果：\n",
        "> Hello, World!"
      ],
      "metadata": {
        "id": "JjXArYRJpz2U"
      }
    },
    {
      "cell_type": "code",
      "source": [
        "%%writefile main.c\n",
        "#include <stdio.h>\n",
        "int main() {\n",
        "    // これはコメント行です\n",
        "    printf(\"Hello, World!\";\n",
        "    return 0\n",
        "}"
      ],
      "metadata": {
        "id": "ETa3cxduh3_i"
      },
      "execution_count": null,
      "outputs": []
    },
    {
      "cell_type": "code",
      "source": [
        "if compile_program():\n",
        "    run_program()"
      ],
      "metadata": {
        "id": "hiayeY0ds8s4"
      },
      "execution_count": null,
      "outputs": []
    },
    {
      "cell_type": "markdown",
      "source": [
        "C_2 課題1 模範解答\n",
        "\n",
        "エラーの理由：\n",
        "1. `printf(\"Hello, World!\"` の閉じ括弧 `)` が欠けています。C言語では関数呼び出しの括弧は必ずペアで必要です。\n",
        "2. `return 0` の末尾にセミコロン `;` が欠けています。C言語では文の終わりには必ずセミコロンが必要です。\n"
      ],
      "metadata": {
        "id": "UbFXteWjpiX0"
      }
    },
    {
      "cell_type": "code",
      "source": [
        "%%writefile main.c\n",
        "#include <stdio.h>\n",
        "int main() {\n",
        "    // これはコメント行です\n",
        "    printf(\"Hello, World!\");\n",
        "    return 0;\n",
        "}"
      ],
      "metadata": {
        "id": "zMI99Ha0pkg5"
      },
      "execution_count": null,
      "outputs": []
    },
    {
      "cell_type": "code",
      "source": [
        "if compile_program():\n",
        "    run_program()"
      ],
      "metadata": {
        "id": "fcNAGuMmiGuM"
      },
      "execution_count": null,
      "outputs": []
    },
    {
      "cell_type": "markdown",
      "source": [
        "C_3 課題1\n",
        "\n",
        "以下のプログラムは、円の半径から面積を計算し、小数点第二位まで表示するプログラムです。<br>\n",
        "1. 計算式が正しいかどうか確認し、必要であれば修正してください。\n",
        "\n",
        "期待する実行結果：\n",
        "> 面積は 78.50 です"
      ],
      "metadata": {
        "id": "PZN9T1hTrL1K"
      }
    },
    {
      "cell_type": "code",
      "source": [
        "%%writefile main.c\n",
        "#include <stdio.h>\n",
        "\n",
        "int main() {\n",
        "    // 半径を格納する変数（Input）\n",
        "    float radius = 5.0f;\n",
        "\n",
        "    // 面積を計算（Process）\n",
        "    float area = 3.14f * radius * radius;\n",
        "\n",
        "    // 結果を表示（Output）\n",
        "    printf(\"面積は %f です\", area);\n",
        "\n",
        "    return 0;\n",
        "}"
      ],
      "metadata": {
        "id": "p_QQvAZcrL-P"
      },
      "execution_count": null,
      "outputs": []
    },
    {
      "cell_type": "code",
      "source": [
        "if compile_program():\n",
        "    run_program()"
      ],
      "metadata": {
        "id": "RPTLRf1Ns9nI"
      },
      "execution_count": null,
      "outputs": []
    },
    {
      "cell_type": "markdown",
      "source": [
        "C_3 課題1 模範解答\n",
        "\n",
        "\n",
        "エラーの理由：\n",
        "1. printfのフォーマット指定子が`%f`となっており、小数点以下の表示桁数が指定されていません。そのため、小数点以下が6桁まで表示されてしまいます。\n",
        "2. 期待する実行結果では小数点第二位まで表示する必要があるため、フォーマット指定子を`%.2f`に修正する必要があります。\n"
      ],
      "metadata": {
        "id": "jLWOarZ1sJ0i"
      }
    },
    {
      "cell_type": "code",
      "source": [
        "%%writefile main.c\n",
        "#include <stdio.h>\n",
        "\n",
        "int main() {\n",
        "    // 半径を格納する変数（Input）\n",
        "    float radius = 5.0f;\n",
        "\n",
        "    // 面積を計算（Process）\n",
        "    float area = 3.14f * radius * radius;\n",
        "\n",
        "    // 結果を表示（Output）\n",
        "    printf(\"面積は %.2f です\", area);\n",
        "\n",
        "    return 0;\n",
        "}"
      ],
      "metadata": {
        "id": "rJgFMetFEt-k"
      },
      "execution_count": null,
      "outputs": []
    },
    {
      "cell_type": "code",
      "source": [
        "if compile_program():\n",
        "    run_program()"
      ],
      "metadata": {
        "id": "7-Y8fhu3iJ4g"
      },
      "execution_count": null,
      "outputs": []
    },
    {
      "cell_type": "markdown",
      "source": [
        "C_4 課題1\n",
        "以下のコードをコンパイルするとエラーが出ます。<br>\n",
        "エラー内容を確認の上、正しく動作するように修正してください。\n",
        "\n",
        "期待する実行結果：\n",
        "> カウント：5"
      ],
      "metadata": {
        "id": "YewDwEpHuZw3"
      }
    },
    {
      "cell_type": "code",
      "source": [
        "%%writefile main.c\n",
        "# include <stdio.h>\n",
        "\n",
        "int main() {\n",
        "    int count = \"5\";\n",
        "    printf(\"カウント：%d\\n\", count);\n",
        "    return 0;\n",
        "}"
      ],
      "metadata": {
        "id": "fW02m9Ocv1Rp"
      },
      "execution_count": null,
      "outputs": []
    },
    {
      "cell_type": "markdown",
      "source": [
        "C_4 課題1 模範解答\n",
        "エラーの理由：\n",
        "1. int型の変数`count`に文字列リテラル`\"5\"`を代入しようとしています。文字列リテラルはchar型の配列として扱われるため、int型の変数に直接代入することはできません。\n",
        "2. 数値の5を表現する場合は、クォーテーションマーク`\"\"`を付けずに整数リテラル`5`として記述する必要があります。\n"
      ],
      "metadata": {
        "id": "tcev3hnIwA5t"
      }
    },
    {
      "cell_type": "code",
      "source": [
        "%%writefile main.c\n",
        "# include <stdio.h>\n",
        "\n",
        "int main() {\n",
        "    int count = 5;\n",
        "    printf(\"カウント：%d\\n\", count);\n",
        "    return 0;\n",
        "}"
      ],
      "metadata": {
        "id": "RSl2UZWqiPJL"
      },
      "execution_count": null,
      "outputs": []
    },
    {
      "cell_type": "code",
      "source": [
        "if compile_program():\n",
        "    run_program()"
      ],
      "metadata": {
        "id": "YYLg_cQllkl7"
      },
      "execution_count": null,
      "outputs": []
    },
    {
      "cell_type": "markdown",
      "source": [
        "C_4 課題1 別解\n",
        "\n",
        "エラーの原因に対する別のアプローチとして：\n",
        "1. 文字`'5'`として扱う場合は、変数の型をchar型として宣言し、シングルクォーテーション`''`で囲んで代入します。\n",
        "2. 出力時のフォーマット指定子も、文字を表示する`%c`を使用します。\n"
      ],
      "metadata": {
        "id": "u3MlAUkIwK9t"
      }
    },
    {
      "cell_type": "code",
      "source": [
        "#@title C_4 課題1 別解\n",
        "%%writefile main.c\n",
        "# include <stdio.h>\n",
        "\n",
        "int main() {\n",
        "    char count = '5';\n",
        "    printf(\"カウント：%c\\n\", count);\n",
        "    return 0;\n",
        "}"
      ],
      "metadata": {
        "id": "g7nL6hdtllbD"
      },
      "execution_count": null,
      "outputs": []
    },
    {
      "cell_type": "code",
      "source": [
        "if compile_program():\n",
        "    run_program()"
      ],
      "metadata": {
        "id": "JRG-Z5xxlsv2"
      },
      "execution_count": null,
      "outputs": []
    },
    {
      "cell_type": "markdown",
      "source": [
        "---\n",
        "C_5 課題1\n",
        "\n",
        "以下は三角形の面積を計算するプログラムです。\n",
        "プログラムには2カ所問題があります。<br>\n",
        "正しく動作するように修正してください。"
      ],
      "metadata": {
        "id": "_aRbkDFtBkoJ"
      }
    },
    {
      "cell_type": "code",
      "source": [
        "%%writefile main.c\n",
        "#include <stdio.h>\n",
        "\n",
        "float calc_triangle(float base, height) {\n",
        "    float area = (base * height) / 2.0f;\n",
        "    return area;\n",
        "}\n",
        "\n",
        "int main() {\n",
        "    float b = 6.0;\n",
        "    float h = 4.5;\n",
        "\n",
        "    float result1 = calc_triangle();\n",
        "    printf(\"三角形の面積1: %f\\n\", result1);\n",
        "\n",
        "    return 0;\n",
        "}"
      ],
      "metadata": {
        "id": "XYGqV1IDBkx6"
      },
      "execution_count": null,
      "outputs": []
    },
    {
      "cell_type": "code",
      "source": [
        "if compile_program():\n",
        "    run_program()"
      ],
      "metadata": {
        "id": "MHdxQTrcxRDM"
      },
      "execution_count": null,
      "outputs": []
    },
    {
      "cell_type": "markdown",
      "source": [
        "C_5 課題1 模範解答\n",
        "\n",
        "エラーの理由：\n",
        "1. `calc_triangle`関数の引数宣言において、`height`パラメータの型（float）が指定されていません。C言語では各パラメータに対して型を明示的に指定する必要があります。\n",
        "2. `calc_triangle`関数を呼び出す際に引数が指定されていません。関数に定義されているパラメータ`base`と`height`に対応する値（`b`と`h`）を渡す必要があります。\n"
      ],
      "metadata": {
        "id": "IvT37HhTB0GP"
      }
    },
    {
      "cell_type": "code",
      "source": [
        "%%writefile main.c\n",
        "#include <stdio.h>\n",
        "\n",
        "float calc_triangle(float base, float height) {  // height の型を指定\n",
        "    float area = (base * height) / 2.0f;\n",
        "    return area;\n",
        "}\n",
        "\n",
        "int main() {\n",
        "    float b = 6.0;\n",
        "    float h = 4.5;\n",
        "\n",
        "    float result1 = calc_triangle(b, h);        // 引数を追加\n",
        "    printf(\"三角形の面積1: %f\\n\", result1);\n",
        "\n",
        "    return 0;\n",
        "}"
      ],
      "metadata": {
        "id": "yApfI1H8B0Ng"
      },
      "execution_count": null,
      "outputs": []
    },
    {
      "cell_type": "code",
      "source": [
        "if compile_program():\n",
        "    run_program()"
      ],
      "metadata": {
        "id": "1l25bj1oCBW2"
      },
      "execution_count": null,
      "outputs": []
    },
    {
      "cell_type": "markdown",
      "source": [
        "---\n",
        "C_5 課題2\n",
        "以下は年齢を設定・表示するプログラムです。<br>\n",
        "\n",
        ">set_age:年齢を設定する関数<br>\n",
        "show_age:年齢を表示する関数\n",
        "\n",
        "この各関数の機能がうまく動作するように修正してください。"
      ],
      "metadata": {
        "id": "sTZL-ZjwQ07H"
      }
    },
    {
      "cell_type": "code",
      "source": [
        "%%writefile main.c\n",
        "#include <stdio.h>\n",
        "\n",
        "int set_age() {\n",
        "    int age = 20;\n",
        "    return age;\n",
        "}\n",
        "\n",
        "void show_age() {\n",
        "    printf(\"年齢は: %d歳\\n\", age);\n",
        "}\n",
        "\n",
        "int main() {\n",
        "    set_age();\n",
        "    show_age();\n",
        "    return 0;\n",
        "}"
      ],
      "metadata": {
        "id": "HQbuI5JnQ1Dx"
      },
      "execution_count": null,
      "outputs": []
    },
    {
      "cell_type": "code",
      "source": [
        "if compile_program():\n",
        "    run_program()"
      ],
      "metadata": {
        "id": "b9Ty8G1TQ1Qv"
      },
      "execution_count": null,
      "outputs": []
    },
    {
      "cell_type": "markdown",
      "source": [
        "C_5 課題2 模範解答\n",
        "\n",
        "エラーの理由：\n",
        "1. `set_age`関数で宣言した`age`変数は、その関数内でのみ有効です。returnした値を変数に代入して使う必要があります。\n",
        "2. `show_age`関数では`age`変数にアクセスできません。引数ageを追加する必要があります。\n",
        "\n"
      ],
      "metadata": {
        "id": "3w0ipvoSQ1K2"
      }
    },
    {
      "cell_type": "code",
      "source": [
        "%%writefile main.c\n",
        "#include <stdio.h>\n",
        "\n",
        "int set_age() {\n",
        "    int age = 20;\n",
        "    return age;\n",
        "}\n",
        "\n",
        "void show_age(int age) { // 引数で年齢を受け取る\n",
        "    printf(\"年齢は: %d歳\\n\", age);\n",
        "}\n",
        "\n",
        "int main() {\n",
        "    int age = set_age();  // set_ageの戻り値を受け取る\n",
        "    show_age(age);        // show_ageに年齢を渡す\n",
        "    return 0;\n",
        "}"
      ],
      "metadata": {
        "id": "yYbZObYTQ8yz"
      },
      "execution_count": null,
      "outputs": []
    },
    {
      "cell_type": "markdown",
      "source": [
        "---\n",
        "C_6 課題1\n",
        "以下のプログラムの空欄を埋めて、次の出力を得てください：<br>\n",
        "\n",
        "期待する実行結果：\n",
        "> 文字列\"100\"から変換した数値: 100"
      ],
      "metadata": {
        "id": "ajkbgFI1NFWu"
      }
    },
    {
      "cell_type": "code",
      "source": [
        "%%writefile main.c\n",
        "#include <stdio.h>\n",
        "#include <> // ヘッダーも追加\n",
        "\n",
        "int main() {\n",
        "    char str[] = \"100\";\n",
        "    int value = /*ここに記述*/;\n",
        "    printf(\"文字列\\\"%s\\\"から変換した数値: %d\\n\", str, value);\n",
        "\n",
        "    return 0;\n",
        "}"
      ],
      "metadata": {
        "id": "J8BE8I92nt4-"
      },
      "execution_count": null,
      "outputs": []
    },
    {
      "cell_type": "code",
      "source": [
        "if compile_program():\n",
        "    run_program()"
      ],
      "metadata": {
        "id": "1drs91v4NIMA"
      },
      "execution_count": null,
      "outputs": []
    },
    {
      "cell_type": "markdown",
      "source": [
        "C_6 課題1 模範解答\n",
        "\n",
        "\n",
        "## atoi関数\n",
        "```c\n",
        "int value = atoi(str);\n",
        "```\n",
        "- `<stdlib.h>`で定義されています\n",
        "- ASCII文字列をinteger（整数）に変換します\n",
        "- 引数：変換する文字列\n",
        "- 戻り値：変換された整数値\n",
        "- エラー時は0を返します\n",
        "- 使用例：文字列形式の数値を計算に使用する場合など\n"
      ],
      "metadata": {
        "id": "C8ziEi7QNbjy"
      }
    },
    {
      "cell_type": "code",
      "source": [
        "%%writefile main.c\n",
        "#include <stdio.h>\n",
        "#include <stdlib.h>\n",
        "\n",
        "int main() {\n",
        "    char str[] = \"100\";\n",
        "    int value = atoi(str);\n",
        "    printf(\"文字列\\\"%s\\\"から変換した数値: %d\\n\", str, value);\n",
        "\n",
        "    return 0;\n",
        "}"
      ],
      "metadata": {
        "id": "UWcEvVYHNJDz"
      },
      "execution_count": null,
      "outputs": []
    },
    {
      "cell_type": "code",
      "source": [
        "if compile_program():\n",
        "    run_program()"
      ],
      "metadata": {
        "id": "LBi_3lQSNgAW"
      },
      "execution_count": null,
      "outputs": []
    },
    {
      "cell_type": "markdown",
      "source": [
        "C_7 課題1\n",
        "\n",
        "以下のコードには問題があります。<br>\n",
        "正しく動作するように修正してください。\n",
        "<br>\n",
        "\n",
        "期待する実行結果：\n",
        "> 4月の売上: 180"
      ],
      "metadata": {
        "id": "kYF0ijAPp-Fd"
      }
    },
    {
      "cell_type": "code",
      "source": [
        "%%writefile main.c\n",
        "# include <stdio.h>\n",
        "\n",
        "int main(){\n",
        "    // 1月から12月の売上データ\n",
        "    int sales[] = {100, 150, 120, 180, 130, 200, 170, 160, 190, 210, 250, 300};\n",
        "    printf(\"4月の売上: %d\\n\", sales[4]);\n",
        "    return 0;\n",
        "\n",
        "}\n"
      ],
      "metadata": {
        "id": "4mx6pd3sGYRu"
      },
      "execution_count": null,
      "outputs": []
    },
    {
      "cell_type": "markdown",
      "source": [
        "C_7 課題1 模範解答\n",
        "\n",
        "エラーの理由：\n",
        "1. sales[4]は5番目の要素（5月の売上）を指します。配列のインデックスは0から始まるためです。\n",
        "\n",
        "4月のデータにアクセスするために、`sales[4]`を`sales[3]`に変更する必要があります。\n"
      ],
      "metadata": {
        "id": "vEN0Ew06GEVi"
      }
    },
    {
      "cell_type": "code",
      "source": [
        "%%writefile main.c\n",
        "#include <stdio.h>\n",
        "\n",
        "int main() {\n",
        "    // 1月から12月の売上データ\n",
        "    int sales[] = {100, 150, 120, 180, 130, 200, 170, 160, 190, 210, 250, 300};\n",
        "\n",
        "    // 4月の売上を表示（インデックスは3を使用）\n",
        "    printf(\"4月の売上: %d\\n\", sales[3]);\n",
        "\n",
        "    return 0;\n",
        "}"
      ],
      "metadata": {
        "id": "MWa0mevbGpxP"
      },
      "execution_count": null,
      "outputs": []
    },
    {
      "cell_type": "code",
      "source": [
        "if compile_program():\n",
        "    run_program()"
      ],
      "metadata": {
        "id": "Y3Tu5mjfHVQb"
      },
      "execution_count": null,
      "outputs": []
    },
    {
      "cell_type": "markdown",
      "source": [
        "C_7 課題2\n",
        "\n",
        "以下はtext1にtext2の内容を結合するコードですが、問題があります。<br>\n",
        "正しく動作するように修正してください。\n",
        "<br>\n",
        "\n",
        "期待する実行結果：\n",
        "> text1: Hello World!"
      ],
      "metadata": {
        "id": "NE2ncXYxrlp4"
      }
    },
    {
      "cell_type": "code",
      "source": [
        "%%writefile main.c\n",
        "#include <stdio.h>\n",
        "#include <string.h>\n",
        "\n",
        "int main() {\n",
        "\n",
        "    char text1[] = \"Hello \";\n",
        "    char text2[] = \"World!\";\n",
        "\n",
        "    text1 = text1 + text2;\n",
        "\n",
        "    printf(\"text1: %s\\n\", text1); // 確認用\n",
        "\n",
        "    return 0;\n",
        "}"
      ],
      "metadata": {
        "id": "cHfd8e8xNg2x"
      },
      "execution_count": null,
      "outputs": []
    },
    {
      "cell_type": "code",
      "source": [
        "if compile_program():\n",
        "    run_program()"
      ],
      "metadata": {
        "id": "Td1he64LrpHD"
      },
      "execution_count": null,
      "outputs": []
    },
    {
      "cell_type": "markdown",
      "source": [
        "C_7 課題2 模範解答\n",
        "\n",
        "エラーの理由：\n",
        "1. C言語では文字列の結合に `+` 演算子は使えません。代わりに `strcat()` 関数を使用する必要があります。\n",
        "2. 配列 `text1` のサイズが小さすぎます。結合後の文字列全体（\"Hello World!\"）と終端文字（\\0）を格納できるように、最低13バイトのサイズが必要です。\n",
        "3. C言語では配列は代入演算子 `=` で直接結合できません。配列名は配列の先頭アドレスを示す定数であり、代入はできません。\n"
      ],
      "metadata": {
        "id": "D50aHyIQrsBd"
      }
    },
    {
      "cell_type": "code",
      "source": [
        "%%writefile main.c\n",
        "#include <stdio.h>\n",
        "#include <string.h>\n",
        "\n",
        "int main() {\n",
        "\n",
        "    char text1[13] = \"Hello \"; // 配列のサイズは\"Hello World!\"の文字サイズ：12+1(\\0)以上にする必要がある\n",
        "    char text2[] = \"World!\";\n",
        "\n",
        "    strcat(text1, text2); // C言語では文字の連結はstrcat関数を使う\n",
        "\n",
        "    printf(\"text1: %s\\n\", text1); // 確認用\n",
        "\n",
        "    return 0;\n",
        "}"
      ],
      "metadata": {
        "id": "Ua4yMIWHrt2n"
      },
      "execution_count": null,
      "outputs": []
    },
    {
      "cell_type": "code",
      "source": [
        "if compile_program():\n",
        "    run_program()"
      ],
      "metadata": {
        "id": "47TiwOttsEzt"
      },
      "execution_count": null,
      "outputs": []
    },
    {
      "cell_type": "markdown",
      "source": [
        "---\n",
        "C_8 課題1\n",
        "ある店舗の在庫管理プログラムを作成しています。<br>\n",
        "在庫が5個以下になったら「在庫が少なくなりました」と表示し、補充注文をする必要があります。<br>\n",
        "以下のプログラムには問題があります。修正してください。<br>\n",
        "\n",
        "期待する実行結果：\n",
        "> 現在の在庫: 8<br>\n",
        "現在の在庫: 7<br>\n",
        "現在の在庫: 6<br>\n",
        "現在の在庫: 5<br>\n",
        "在庫が少なくなりました<br>\n",
        "現在の在庫: 4<br>\n",
        "在庫が少なくなりました<br>\n",
        "現在の在庫: 3<br>\n",
        "在庫が少なくなりました<br>\n",
        "現在の在庫: 2<br>\n",
        "在庫が少なくなりました<br>\n",
        "現在の在庫: 1<br>\n",
        "在庫が少なくなりました<br>\n",
        "最終在庫: 0"
      ],
      "metadata": {
        "id": "oUKJA-ff7kmy"
      }
    },
    {
      "cell_type": "code",
      "source": [
        "%%writefile main.c\n",
        "#include <stdio.h>\n",
        "\n",
        "int main() {\n",
        "    int stock = 8;\n",
        "    while (stock >= 5) {\n",
        "        printf(\"現在の在庫: %d\\n\", stock);\n",
        "        stock--;\n",
        "        if (stock <= 5) {\n",
        "            printf(\"在庫が少なくなりました\\n\");\n",
        "        }\n",
        "    }\n",
        "    printf(\"最終在庫: %d\\n\", stock);\n",
        "    return 0;\n",
        "}"
      ],
      "metadata": {
        "id": "rqmJysUPsI3C"
      },
      "execution_count": null,
      "outputs": []
    },
    {
      "cell_type": "code",
      "source": [
        "if compile_program():\n",
        "    run_program()"
      ],
      "metadata": {
        "id": "VUoLXpYM7qeB"
      },
      "execution_count": null,
      "outputs": []
    },
    {
      "cell_type": "markdown",
      "source": [
        "C_8 課題1 模範解答\n",
        "\n",
        "エラーの理由：\n",
        "1. ループの継続条件が `stock >= 5` となっているため、在庫が4以下になった時点でループが終了してしまいます。在庫が1-4個の場合も処理する必要があります。\n",
        "2. `stock--` の位置が `if文` の前にあるため、在庫6の時に警告メッセージが出力されてしまいます。在庫チェックを先に行う必要があります。\n"
      ],
      "metadata": {
        "id": "d9pg_rKK7s1c"
      }
    },
    {
      "cell_type": "code",
      "source": [
        "%%writefile main.c\n",
        "#include <stdio.h>\n",
        "\n",
        "int main() {\n",
        "    int stock = 8;\n",
        "    while (stock > 0) {  // 在庫がある限り続ける\n",
        "        printf(\"現在の在庫: %d\\n\", stock);\n",
        "        if (stock <= 5) {\n",
        "            printf(\"在庫が少なくなりました\\n\");\n",
        "        }\n",
        "        stock--;\n",
        "    }\n",
        "    printf(\"最終在庫: %d\\n\", stock);\n",
        "    return 0;\n",
        "}"
      ],
      "metadata": {
        "id": "nML8TObb7xJr"
      },
      "execution_count": null,
      "outputs": []
    },
    {
      "cell_type": "code",
      "source": [
        "if compile_program():\n",
        "    run_program()"
      ],
      "metadata": {
        "id": "GD3VKVeH7xPN"
      },
      "execution_count": null,
      "outputs": []
    },
    {
      "cell_type": "markdown",
      "source": [
        "C_8 課題2\n",
        "\n",
        "1週間分の売上データを処理するプログラムです。<br>各日の売上を表示し、最後に合計を表示します。<br>\n",
        "以下のプログラムには問題があります。どこが問題か考え、修正してください。<br>\n",
        "\n",
        "期待する実行結果：\n",
        "> === 売上集計開始 ===<br>\n",
        "1日目の売上: 1000円<br>\n",
        "2日目の売上: 1500円<br>\n",
        "3日目の売上: 2000円<br>\n",
        "4日目の売上: 1800円<br>\n",
        "5日目の売上: 1600円<br>\n",
        "6日目の売上: 2200円<br>\n",
        "7日目の売上: 1900円<br>\n",
        "週間合計: 12000円"
      ],
      "metadata": {
        "id": "tdB0fqtf7xZo"
      }
    },
    {
      "cell_type": "code",
      "source": [
        "%%writefile main.c\n",
        "#include <stdio.h>\n",
        "\n",
        "int main() {\n",
        "    int sales[] = {1000, 1500, 2000, 1800, 1600, 2200, 1900};\n",
        "    int total = 0;\n",
        "    int i = 1;\n",
        "\n",
        "    printf(\"=== 売上集計開始 ===\\n\");\n",
        "    for (i = 1; i <= 7; i++) {\n",
        "        printf(\"%d日目の売上: %d円\\n\", i, sales[i]);\n",
        "        total += sales[i];\n",
        "    }\n",
        "    printf(\"週間合計: %d円\\n\", total);\n",
        "    return 0;\n",
        "}"
      ],
      "metadata": {
        "id": "O7Ws8gUP7_WU"
      },
      "execution_count": null,
      "outputs": []
    },
    {
      "cell_type": "code",
      "source": [
        "if compile_program():\n",
        "    run_program()"
      ],
      "metadata": {
        "id": "UTp3Cbpl8A64"
      },
      "execution_count": null,
      "outputs": []
    },
    {
      "cell_type": "markdown",
      "source": [
        "C_8 課題2 模範解答\n",
        "\n",
        "### 問題点\n",
        "1. 配列のインデックスが1から始まっているため、最初のデータ（sales[0]）が無視されます\n",
        "2. `i <= 7`という条件により、存在しないsales[7]にアクセスしようとします\n",
        "3. これにより、範囲外アクセスが発生し、不正な値が加算される可能性があります"
      ],
      "metadata": {
        "id": "DCZHl8rP8BCg"
      }
    },
    {
      "cell_type": "code",
      "source": [
        "%%writefile main.c\n",
        "#include <stdio.h>\n",
        "\n",
        "int main() {\n",
        "    int sales[] = {1000, 1500, 2000, 1800, 1600, 2200, 1900};\n",
        "    int total = 0;\n",
        "    int i = 0;\n",
        "\n",
        "    printf(\"=== 売上集計開始 ===\\n\");\n",
        "    for (i = 0; i < 7; i++) {  // 0から始めて7未満まで\n",
        "        printf(\"%d日目の売上: %d円\\n\", i + 1, sales[i]); // 表示は+1をする必要がある\n",
        "        total += sales[i];\n",
        "    }\n",
        "    printf(\"週間合計: %d円\\n\", total);\n",
        "    return 0;\n",
        "}"
      ],
      "metadata": {
        "id": "tywlqEY48CTa"
      },
      "execution_count": null,
      "outputs": []
    },
    {
      "cell_type": "code",
      "source": [
        "if compile_program():\n",
        "    run_program()"
      ],
      "metadata": {
        "id": "rXIZbweU8CWM"
      },
      "execution_count": null,
      "outputs": []
    },
    {
      "cell_type": "markdown",
      "source": [
        "---\n",
        "C_9 課題1\n",
        "以下のコードには問題があります。探して修正しましょう。\n",
        "\n",
        "期待する実行結果：\n",
        "> 在庫は十分です"
      ],
      "metadata": {
        "id": "RURU_gL6BN-g"
      }
    },
    {
      "cell_type": "code",
      "source": [
        "%%writefile main.c\n",
        "#include <stdio.h>\n",
        "\n",
        "int main() {\n",
        "\n",
        "    int stock = 3;\n",
        "\n",
        "    if stock < 0 {\n",
        "        printf(\"在庫切れです\\n\");\n",
        "    } else if stock < 3 {\n",
        "        printf(\"在庫が少なくなっています\\n\");\n",
        "    } else\n",
        "        printf(\"在庫は十分です\\n\");\n",
        "\n",
        "    return 0;\n",
        "}"
      ],
      "metadata": {
        "id": "9eq77WXW8h70"
      },
      "execution_count": null,
      "outputs": []
    },
    {
      "cell_type": "code",
      "source": [
        "if compile_program():\n",
        "    run_program()"
      ],
      "metadata": {
        "id": "cUtY6-gXBQkB"
      },
      "execution_count": null,
      "outputs": []
    },
    {
      "cell_type": "markdown",
      "source": [
        "C_9 課題1 模範解答\n",
        "1. if文、else if文の条件式に括弧`()`がない\n",
        "2. 条件式の後の波括弧`{}`がない"
      ],
      "metadata": {
        "id": "AbBwjDE9BSG1"
      }
    },
    {
      "cell_type": "code",
      "source": [
        "%%writefile main.c\n",
        "#include <stdio.h>\n",
        "\n",
        "int main() {\n",
        "\n",
        "    int stock = 3;\n",
        "\n",
        "    if (stock < 0) {\n",
        "        printf(\"在庫切れです\\n\");\n",
        "    } else if (stock < 3) {\n",
        "        printf(\"在庫が少なくなっています\\n\");\n",
        "    } else {\n",
        "        printf(\"在庫は十分です\\n\");\n",
        "    }\n",
        "\n",
        "    return 0;\n",
        "}"
      ],
      "metadata": {
        "id": "XabjzYNoBSPw"
      },
      "execution_count": null,
      "outputs": []
    },
    {
      "cell_type": "code",
      "source": [
        "if compile_program():\n",
        "    run_program()"
      ],
      "metadata": {
        "id": "2rbBlIvPBSSi"
      },
      "execution_count": null,
      "outputs": []
    },
    {
      "cell_type": "markdown",
      "source": [
        "C_9 課題2\n",
        "以下のコードは  \n",
        "1. `dept` が1の場合 → 「営業部」  \n",
        "2. `dept` が2の場合 → 「総務部」  \n",
        "3. `dept` が3の場合 → 「経理部」  \n",
        "4. 上記以外の場合 → 「その他」  \n",
        "\n",
        "と表示するプログラムですが、問題があります。探して修正しましょう。  \n",
        "\n",
        "期待する実行結果：\n",
        "> 総務部"
      ],
      "metadata": {
        "id": "LCIhvTNrCVsv"
      }
    },
    {
      "cell_type": "code",
      "source": [
        "%%writefile main.c\n",
        "#include <stdio.h>\n",
        "\n",
        "int main() {\n",
        "\n",
        "    int dept = 2;\n",
        "\n",
        "    switch dept {\n",
        "        case 1:\n",
        "            printf(\"営業部\\n\");\n",
        "        case 2:\n",
        "            printf(\"総務部\\n\");\n",
        "        case 3:\n",
        "            printf(\"経理部\\n\");\n",
        "        default:\n",
        "            printf(\"その他\\n\");\n",
        "    }\n",
        "    return 0;\n",
        "}"
      ],
      "metadata": {
        "id": "qEO6fVCyCVyk"
      },
      "execution_count": null,
      "outputs": []
    },
    {
      "cell_type": "code",
      "source": [
        "if compile_program():\n",
        "    run_program()"
      ],
      "metadata": {
        "id": "i39yj3UwCV41"
      },
      "execution_count": null,
      "outputs": []
    },
    {
      "cell_type": "markdown",
      "source": [
        "C_9 課題2 模範解答\n",
        "1. switch文の条件式には()が必要\n",
        "2. 各caseの後には`break`が必要（ないと通常のコードでは次のcaseも実行される）"
      ],
      "metadata": {
        "id": "5H9HwgnjCb11"
      }
    },
    {
      "cell_type": "code",
      "source": [
        "%%writefile main.c\n",
        "#include <stdio.h>\n",
        "\n",
        "int main() {\n",
        "\n",
        "    int dept = 2;\n",
        "\n",
        "    switch (dept) {\n",
        "        case 1:\n",
        "            printf(\"営業部\\n\");\n",
        "            break;\n",
        "        case 2:\n",
        "            printf(\"総務部\\n\");\n",
        "            break;\n",
        "        case 3:\n",
        "            printf(\"経理部\\n\");\n",
        "            break;\n",
        "        default:\n",
        "            printf(\"その他\\n\");\n",
        "            break;\n",
        "    }\n",
        "    return 0;\n",
        "}"
      ],
      "metadata": {
        "id": "rwiyj04wCb-t"
      },
      "execution_count": null,
      "outputs": []
    },
    {
      "cell_type": "code",
      "source": [
        "if compile_program():\n",
        "    run_program()"
      ],
      "metadata": {
        "id": "-KOF7qlLkLzr"
      },
      "execution_count": null,
      "outputs": []
    },
    {
      "cell_type": "markdown",
      "source": [
        "---\n",
        "C_10 課題1\n",
        "以下のコードは3人の学生情報を管理するプログラムです。\n",
        "動作するよう、問題を探して修正しましょう。\n",
        "\n",
        "期待する実行結果：\n",
        "> 【学生情報一覧】<br>\n",
        "<br>\n",
        "1人目の学生<br>\n",
        "名前：田中太郎<br>\n",
        "学年：2年<br>\n",
        "成績：85.5点<br>\n",
        "<br>\n",
        "2人目の学生<br>\n",
        "名前：山田花子<br>\n",
        "学年：1年<br>\n",
        "成績：92.0点<br>\n",
        "<br>\n",
        "3人目の学生<br>\n",
        "名前：佐藤一郎<br>\n",
        "学年：3年<br>\n",
        "成績：78.5点<br>\n",
        "<br>\n",
        "全体の平均点：85.3点\n",
        "\n",
        "ヒント：print文の修正が必要"
      ],
      "metadata": {
        "id": "LPde4GGhkMZt"
      }
    },
    {
      "cell_type": "code",
      "source": [
        "%%writefile main.c\n",
        "# include <stdio.h>\n",
        "# include <string.h>\n",
        "\n",
        "typedef struct {\n",
        "    char name[50];\n",
        "    int grade;\n",
        "    float score;\n",
        "} Student;\n",
        "\n",
        "int main() {\n",
        "    // 3人の学生データを作成\n",
        "    Student students[3] = {\n",
        "        {\"田中太郎\", 2, 85.5},\n",
        "        {\"山田花子\", 1, 92.0},\n",
        "        {\"佐藤一郎\", 3, 78.5}\n",
        "    };\n",
        "\n",
        "    // 全員の情報を表示\n",
        "    printf(\"【学生情報一覧】\\n\");\n",
        "    for(int i = 0; i < 3; i++) {\n",
        "        printf(\"\\n%d人目の学生\\n\", i+1);\n",
        "        printf(\"名前：%s\\n\");\n",
        "        printf(\"学年：%d年\\n\");\n",
        "        printf(\"成績：%.1f点\\n\");\n",
        "    }\n",
        "\n",
        "    // 平均点を計算\n",
        "    float sum = 0;\n",
        "    for(int i = 0; i < 3; i++) {\n",
        "        sum += students[i].score;\n",
        "    }\n",
        "    float average = sum / 3;\n",
        "\n",
        "    printf(\"\\n全体の平均点：%.1f点\\n\", average);\n",
        "\n",
        "    return 0;\n",
        "}"
      ],
      "metadata": {
        "id": "Xp1iegJ3kg3u"
      },
      "execution_count": null,
      "outputs": []
    },
    {
      "cell_type": "code",
      "source": [
        "if compile_program():\n",
        "    run_program()"
      ],
      "metadata": {
        "id": "n97mZH1skhyI"
      },
      "execution_count": null,
      "outputs": []
    },
    {
      "cell_type": "markdown",
      "source": [
        "C_10 課題1 模範解答\n",
        "1. 構造体のデータを表示する箇所が無い。それぞれstudents[i].name, students[i].grade, students[i].scoreでアクセスする。"
      ],
      "metadata": {
        "id": "aboI_eEskh9Z"
      }
    },
    {
      "cell_type": "code",
      "source": [
        "%%writefile main.c\n",
        "# include <stdio.h>\n",
        "# include <string.h>\n",
        "\n",
        "typedef struct {\n",
        "    char name[50];\n",
        "    int grade;\n",
        "    float score;\n",
        "} Student;\n",
        "\n",
        "int main() {\n",
        "    // 3人の学生データを作成\n",
        "    Student students[3] = {\n",
        "        {\"田中太郎\", 2, 85.5},\n",
        "        {\"山田花子\", 1, 92.0},\n",
        "        {\"佐藤一郎\", 3, 78.5}\n",
        "    };\n",
        "\n",
        "    // 全員の情報を表示\n",
        "    printf(\"【学生情報一覧】\\n\");\n",
        "    for(int i = 0; i < 3; i++) {\n",
        "        printf(\"\\n%d人目の学生\\n\", i+1);\n",
        "        printf(\"名前：%s\\n\", students[i].name);\n",
        "        printf(\"学年：%d年\\n\", students[i].grade);\n",
        "        printf(\"成績：%.1f点\\n\", students[i].score);\n",
        "    }\n",
        "\n",
        "    // 平均点を計算\n",
        "    float sum = 0;\n",
        "    for(int i = 0; i < 3; i++) {\n",
        "        sum += students[i].score;\n",
        "    }\n",
        "    float average = sum / 3;\n",
        "\n",
        "    printf(\"\\n全体の平均点：%.1f点\\n\", average);\n",
        "\n",
        "    return 0;\n",
        "}"
      ],
      "metadata": {
        "id": "QIzNHHCQCcCY"
      },
      "execution_count": null,
      "outputs": []
    },
    {
      "cell_type": "code",
      "source": [
        "if compile_program():\n",
        "    run_program()"
      ],
      "metadata": {
        "id": "2Xao-Y4QMFUa"
      },
      "execution_count": null,
      "outputs": []
    },
    {
      "cell_type": "markdown",
      "source": [
        "---\n",
        "C_11 課題1\n",
        "\n",
        "メモリのアドレスとポインタを使って、変数の値を表示し、\n",
        "その値を変更する基本的なプログラムを完成させてください。\n",
        "\n",
        "期待する実行結果：\n",
        "> 変数の値: 15<br>\n",
        "変数のアドレス: 0x7fff5fbff6bc ※表示されるアドレスは環境によって異なります<br>\n",
        "ポインタの指す値: 15<br>\n",
        "値を変更しました<br>\n",
        "変数の新しい値: 30<br>\n"
      ],
      "metadata": {
        "id": "aVJV6TiDhmGI"
      }
    },
    {
      "cell_type": "code",
      "source": [
        "%%writefile main.c\n",
        "#include <stdio.h>\n",
        "\n",
        "int main() {\n",
        "    // 変数の宣言と初期化\n",
        "    int value = 15;\n",
        "\n",
        "    // TODO 1: int型ポインタptrを宣言し、NULLで初期化してください\n",
        "\n",
        "\n",
        "    // TODO 2: ポインタに変数valueのアドレスを代入してください\n",
        "\n",
        "\n",
        "    // 変数の値とアドレスを表示\n",
        "    printf(\"変数の値: %d\\n\", value);\n",
        "    printf(\"変数のアドレス: %p\\n\", (void*)&value);\n",
        "\n",
        "    printf(\"ポインタの指す値: %d\\n\", );   // TODO 3: ポインタが指す値を表示してください\n",
        "\n",
        "    // TODO 4: ポインタを使って変数の値を30に変更してください\n",
        "\n",
        "\n",
        "    printf(\"値を変更しました\\n\");\n",
        "    printf(\"変数の新しい値: %d\\n\", value);\n",
        "\n",
        "    return 0;\n",
        "}"
      ],
      "metadata": {
        "id": "NwUJb3PkhmP6"
      },
      "execution_count": null,
      "outputs": []
    },
    {
      "cell_type": "code",
      "source": [
        "# コンパイル＆実行\n",
        "if compile_program():\n",
        "    run_program()"
      ],
      "metadata": {
        "id": "i-EoZou-hmWn"
      },
      "execution_count": null,
      "outputs": []
    },
    {
      "cell_type": "markdown",
      "source": [
        "C_11 課題1 模範解答\n",
        "\n",
        "1. int *ptr = NULL;\n",
        "   - int型のポインタを宣言し、安全のためNULLで初期化します\n",
        "\n",
        "2. ptr = &value;\n",
        "   - アドレス演算子(&)を使って変数valueのアドレスを取得し、\n",
        "     ポインタptrに格納します\n",
        "\n",
        "3. *ptrで間接参照し、ポインタが指す先の値を表示します\n",
        "\n",
        "4. *ptr = 30;\n",
        "   - 間接参照演算子(*)を使ってポインタが指す先の値を\n",
        "     30に変更します\n",
        "\n",
        "\n",
        "※ アドレスを表示する場合、アドレスをvoid型でキャストし、%pで16進数として表示します\n"
      ],
      "metadata": {
        "id": "8Q1fnPdwhmhS"
      }
    },
    {
      "cell_type": "code",
      "source": [
        "%%writefile main.c\n",
        "#include <stdio.h>\n",
        "\n",
        "int main() {\n",
        "    // 変数の宣言と初期化\n",
        "    int value = 15;\n",
        "\n",
        "    // TODO 1: int型ポインタを宣言し、NULLで初期化\n",
        "    int *ptr = NULL;\n",
        "\n",
        "    // TODO 2: ポインタに変数valueのアドレスを代入\n",
        "    ptr = &value;\n",
        "\n",
        "    // 変数の値とアドレスを表示\n",
        "    printf(\"変数の値: %d\\n\", value);\n",
        "    printf(\"変数のアドレス: %p\\n\", (void*)&value);\n",
        "\n",
        "    // TODO 3: ポインタが指す値を表示\n",
        "    printf(\"ポインタの指す値: %d\\n\", *ptr);\n",
        "\n",
        "    // TODO 4: ポインタを使って変数の値を30に変更\n",
        "    *ptr = 30;\n",
        "\n",
        "    printf(\"値を変更しました\\n\");\n",
        "    printf(\"変数の新しい値: %d\\n\", value);\n",
        "\n",
        "    return 0;\n",
        "}"
      ],
      "metadata": {
        "id": "zXjfq-AEhmpd"
      },
      "execution_count": null,
      "outputs": []
    },
    {
      "cell_type": "code",
      "source": [
        "# コンパイル＆実行\n",
        "if compile_program():\n",
        "    run_program()"
      ],
      "metadata": {
        "id": "Iaizp307hms3"
      },
      "execution_count": null,
      "outputs": []
    },
    {
      "cell_type": "markdown",
      "source": [
        "---\n",
        "C_12 課題1\n",
        "\n",
        "\n",
        "以下は2つの整数値を入力し、その値を交換して表示するプログラムです。<br>\n",
        "誤りがあり、数値の交換が正しく行われません。<br>\n",
        "プログラムを修正して、正しく動作するようにしてください。\n",
        "\n",
        "期待する実行結果：\n",
        "> 交換後:<br>\n",
        "num1 = 20<br>\n",
        "num2 = 10<br>\n",
        "\n",
        "<br>\n",
        "\n",
        "ヒント：\n",
        "swap関数内の処理\n",
        "1. xポインタの指す値を、tempに保存\n",
        "2. yポインタの指す値を、xポインタの指す場所に保存\n",
        "3. tempに保存していた値を、yポインタの指す場所に保存"
      ],
      "metadata": {
        "id": "_j7io1XSI2tw"
      }
    },
    {
      "cell_type": "code",
      "source": [
        "%%writefile main.c\n",
        "#include <stdio.h>\n",
        "\n",
        "// この関数を修正して、2つの値を正しく交換できるようにしてください\n",
        "void swap(int* x, int* y) {\n",
        "    int temp = ;\n",
        "    x = ;\n",
        "    y = ;\n",
        "}\n",
        "\n",
        "int main() {\n",
        "    int num1 = 10;\n",
        "    int num2 = 20;\n",
        "\n",
        "    // 値の交換を試みる\n",
        "    swap(); // 修正してください\n",
        "\n",
        "    // 交換後の値を表示\n",
        "    printf(\"\\n交換後:\\n\");\n",
        "    printf(\"num1 = %d\\n\", num1);\n",
        "    printf(\"num2 = %d\\n\", num2);\n",
        "\n",
        "    return 0;\n",
        "}\n",
        "\n"
      ],
      "metadata": {
        "id": "u3wdfpn4I26E"
      },
      "execution_count": null,
      "outputs": []
    },
    {
      "cell_type": "code",
      "source": [
        "if compile_program():\n",
        "    run_program()"
      ],
      "metadata": {
        "id": "LNbZV-JUJF9j"
      },
      "execution_count": null,
      "outputs": []
    },
    {
      "cell_type": "markdown",
      "source": [
        "C_12 課題1 模範解答\n",
        "\n",
        "\n",
        "エラーの理由：\n",
        "1. `swap`関数の引数が指定されていません。`swap()`の括弧内に`&num1, &num2`を渡す必要があります。\n",
        "2. `swap`関数内でポインタの値を直接代入しようとしています。ポインタが指す値（*x, *y）を操作する必要があります。\n",
        "3. `temp`変数の初期値が未設定です。一時的な保存用に`*x`の値を代入する必要があります。\n"
      ],
      "metadata": {
        "id": "1a99249WI3Dk"
      }
    },
    {
      "cell_type": "code",
      "source": [
        "%%writefile main.c\n",
        "#include <stdio.h>\n",
        "\n",
        "void swap(int *x, int *y) {\n",
        "    int temp = *x;\n",
        "    *x = *y;\n",
        "    *y = temp;\n",
        "}\n",
        "\n",
        "int main() {\n",
        "    int num1 = 10;\n",
        "    int num2 = 20;\n",
        "\n",
        "    // 値の交換を試みる\n",
        "    swap(&num1, &num2);\n",
        "\n",
        "    printf(\"\\n交換後:\\n\");\n",
        "    printf(\"num1 = %d\\n\", num1);\n",
        "    printf(\"num2 = %d\\n\", num2);\n",
        "\n",
        "    return 0;\n",
        "}"
      ],
      "metadata": {
        "id": "m24wfl2JI3KF"
      },
      "execution_count": null,
      "outputs": []
    },
    {
      "cell_type": "code",
      "source": [
        "if compile_program():\n",
        "    run_program()"
      ],
      "metadata": {
        "id": "zFDWao9diU96"
      },
      "execution_count": null,
      "outputs": []
    },
    {
      "cell_type": "markdown",
      "source": [
        "---\n",
        "C_12 課題2\n",
        "以下は、社員の給与を更新するプログラムです。  \n",
        "構造体ポインタの使い方に誤りがあり、給与の更新が正しく行われません。  \n",
        "プログラムを修正して、正しく動作するようにしてください。\n",
        "\n",
        "期待する実行結果：\n",
        "> 更新前の給与: 250000<br>\n",
        "updateSalaryの給与: 280000<br>\n",
        "更新後の給与: 280000\n",
        "\n",
        "\n",
        "ヒント：\n",
        "1. updateSalary関数の引数をポインタとして受け取るように修正\n",
        "2. ポインタ経由でメンバにアクセスするには「->」演算子を使用する\n"
      ],
      "metadata": {
        "id": "laC5S6WiGgaH"
      }
    },
    {
      "cell_type": "code",
      "source": [
        "%%writefile main.c\n",
        "#include <stdio.h>\n",
        "\n",
        "typedef struct {\n",
        "    char name[20];\n",
        "    int salary;\n",
        "}Employee;\n",
        "\n",
        "// この関数を修正してください\n",
        "void updateSalary(Employee emp, int newSalary) {\n",
        "\n",
        "    emp.salary = newSalary;  // この行が正しく動作しません\n",
        "    printf(\"updateSalaryの給与: %d\\n\", emp.salary);\n",
        "\n",
        "}\n",
        "\n",
        "int main() {\n",
        "    Employee emp1 = {\"山田\", 250000};\n",
        "\n",
        "    printf(\"更新前の給与: %d\\n\", emp1.salary);\n",
        "\n",
        "    updateSalary(emp1, 280000);\n",
        "\n",
        "    printf(\"更新後の給与: %d\\n\", emp1.salary);\n",
        "\n",
        "    return 0;\n",
        "}"
      ],
      "metadata": {
        "id": "g97qSFmSGgut"
      },
      "execution_count": null,
      "outputs": []
    },
    {
      "cell_type": "code",
      "source": [
        "if compile_program():\n",
        "    run_program()"
      ],
      "metadata": {
        "id": "1XuG9pGUGg8Q"
      },
      "execution_count": null,
      "outputs": []
    },
    {
      "cell_type": "markdown",
      "source": [
        "C_12 課題2 模範解答\n",
        "\n",
        "## エラーの理由：\n",
        "1. `updateSalary`関数の引数`emp`は、構造体のコピーとして渡されているため、関数内での変更が元のデータに反映されません。\n",
        "2. 構造体のデータを更新するためには、アドレスを渡す必要があります。\n",
        "\n"
      ],
      "metadata": {
        "id": "WsC77AYeGwXo"
      }
    },
    {
      "cell_type": "code",
      "source": [
        "%%writefile main.c\n",
        "#include <stdio.h>\n",
        "\n",
        "typedef struct {\n",
        "    char name[20];\n",
        "    int salary;\n",
        "}Employee;\n",
        "\n",
        "// ポインタを使用するように修正\n",
        "void updateSalary(Employee *emp, int newSalary) {\n",
        "\n",
        "    emp->salary = newSalary;  // -> 演算子でポインタ経由のアクセス\n",
        "    printf(\"updateSalaryの給与: %d\\n\", emp->salary);\n",
        "\n",
        "}\n",
        "\n",
        "int main() {\n",
        "    Employee emp1 = {\"山田\", 250000};\n",
        "\n",
        "    printf(\"更新前の給与: %d\\n\", emp1.salary);\n",
        "\n",
        "    updateSalary(&emp1, 280000);  // アドレスを渡す\n",
        "\n",
        "    printf(\"更新後の給与: %d\\n\", emp1.salary);\n",
        "\n",
        "    return 0;\n",
        "}"
      ],
      "metadata": {
        "id": "aGdlnGfVGxCO"
      },
      "execution_count": null,
      "outputs": []
    },
    {
      "cell_type": "code",
      "source": [
        "if compile_program():\n",
        "    run_program()"
      ],
      "metadata": {
        "id": "s3PwnI1JJIv0"
      },
      "execution_count": null,
      "outputs": []
    },
    {
      "cell_type": "markdown",
      "source": [
        "---\n",
        "C_13 課題1\n",
        "\n",
        "### 課題の概要\n",
        "1. 与えられたプログラムには、ある特定の年代でバグが存在します\n",
        "2. まずはコードの詳細を見ずにテストケースを作成・実行して、バグを見つけます\n",
        "3. プログラムのどの部分に問題があるかを特定します\n",
        "4. バグを修正して、すべてのテストケースが正しく動作することを確認します\n",
        "\n",
        "<br>\n",
        "\n",
        "期待する実行結果：\n",
        "> 和暦変換テストを開始します<br>\n",
        "----------------------------<br>\n",
        "西暦2024年 -> 令和6年<br>\n",
        "西暦2019年 -> 令和元年<br>\n",
        "西暦2018年 -> 平成30年<br>\n",
        "西暦1989年 -> 平成元年<br>\n",
        "西暦1988年 -> 昭和63年<br>\n",
        "西暦1926年 -> 昭和元年<br>\n",
        "西暦1925年 -> 大正14年<br>\n",
        "西暦1912年 -> 大正元年<br>\n",
        "西暦1911年 -> 明治44年<br>\n",
        "西暦1868年 -> 明治元年<br>\n",
        "西暦1867年 -> 対応していない年代です<br>\n",
        "----------------------------<br>\n",
        "テスト完了（有効なテストケース: 11件）\n",
        "\n",
        "<br>\n",
        "\n",
        "## 今回実践するテストの分類\n",
        "\n",
        "### テストの方法\n",
        "今回は「ブラックボックステスト」にあたります。\n",
        "- プログラムに西暦（入力）を与え、和暦（出力）が正しいかを確認します\n",
        "- プログラムの内部実装よりも、入力に対する出力の正しさに注目します\n",
        "\n",
        "<br>\n",
        "\n",
        "\n",
        "### テストケースの種類\n",
        "主に「境界値テスト」を実施します。\n",
        "- 各元号の切り替わり年（2019年、1989年、1926年、1912年、1868年）をテストします\n",
        "- これらの年は、元号が変わる「境界」となる重要な値です\n",
        "\n",
        "具体的なテストケース：\n",
        "```\n",
        "2024年 -> 令和6年    （通常のケース）\n",
        "2019年 -> 令和元年   （境界値：令和の始まり）\n",
        "2018年 -> 平成30年   （境界値の前年）\n",
        "1989年 -> 平成元年   （境界値：平成の始まり）\n",
        "1988年 -> 昭和63年   （境界値の前年）\n",
        "1926年 -> 昭和元年   （境界値：昭和の始まり）\n",
        "1925年 -> 大正14年   （境界値の前年）\n",
        "1912年 -> 大正元年   （境界値：大正の始まり）\n",
        "1868年 -> 明治元年   （境界値の前年）\n",
        "1868年 -> 明治元年   （境界値：明治の始まり）\n",
        "1867年 -> エラー     （範囲外のテスト）\n",
        "```\n",
        "\n",
        "<br>\n",
        "\n",
        "テストケースを検討の上、上記プログラムを実行し、バグを発見してください。<br>\n",
        "バグを修正し、すべてのテストケースが正しく動作することを確認できたら、以下から課題提出をお願いします。"
      ],
      "metadata": {
        "id": "IKLc7y1TJsUt"
      }
    },
    {
      "cell_type": "code",
      "source": [
        "# テストケース作成\n",
        "%%writefile test_cases.txt\n",
        "2024\n",
        "2023"
      ],
      "metadata": {
        "id": "DR9M9dc7Jsdu"
      },
      "execution_count": null,
      "outputs": []
    },
    {
      "cell_type": "code",
      "source": [
        "#@title 西暦年号変換プログラム本体 { display-mode: \"form\"}\n",
        "\n",
        "%%writefile main.c\n",
        "#include <stdio.h>\n",
        "#include <string.h>\n",
        "#include <stdlib.h>\n",
        "#include <ctype.h>\n",
        "\n",
        "// 定数の定義\n",
        "#define REIWA_START 2019\n",
        "#define HEISEI_START 1989\n",
        "#define SHOWA_START 1926\n",
        "#define TAISHO_START 1912\n",
        "#define MEIJI_START 1868\n",
        "#define ERA_NAME_LENGTH 8\n",
        "#define MAX_TESTS 100\n",
        "\n",
        "// 元号を表す構造体\n",
        "typedef struct {\n",
        "    char eraName[ERA_NAME_LENGTH];\n",
        "    int eraYear;\n",
        "} Era;\n",
        "\n",
        "// 文字列が有効な数値かチェックする関数\n",
        "int isValidNumber(const char* str) {\n",
        "    // 空文字列チェック\n",
        "    if (str[0] == '\\n' || str[0] == '\\0') {\n",
        "        return 0;\n",
        "    }\n",
        "\n",
        "    // 各文字をチェック\n",
        "    for (int i = 0; str[i] != '\\0' && str[i] != '\\n'; i++) {\n",
        "        if (!isdigit(str[i])) {\n",
        "            return 0;\n",
        "        }\n",
        "    }\n",
        "    return 1;\n",
        "}\n",
        "\n",
        "// 元号と和暦年を一度に計算する関数\n",
        "void calculateEra(int year, Era* era) {\n",
        "    if (year >= REIWA_START) {\n",
        "        strcpy(era->eraName, \"令和\");\n",
        "        era->eraYear = year - REIWA_START + 1;\n",
        "    } else if (year > HEISEI_START) {\n",
        "        strcpy(era->eraName, \"平成\");\n",
        "        era->eraYear = year - HEISEI_START + 1;\n",
        "    } else if (year >= SHOWA_START) {\n",
        "        strcpy(era->eraName, \"昭和\");\n",
        "        era->eraYear = year - SHOWA_START + 1;\n",
        "    } else if (year >= TAISHO_START) {\n",
        "        strcpy(era->eraName, \"大正\");\n",
        "        era->eraYear = year - TAISHO_START + 1;\n",
        "    } else if (year >= MEIJI_START) {\n",
        "        strcpy(era->eraName, \"明治\");\n",
        "        era->eraYear = year - MEIJI_START + 1;\n",
        "    } else {\n",
        "        strcpy(era->eraName, \"不明\");\n",
        "        era->eraYear = 0;\n",
        "    }\n",
        "}\n",
        "\n",
        "int main() {\n",
        "    FILE *fp;\n",
        "    char line[256];\n",
        "    int numTests = 0;\n",
        "    Era era;\n",
        "\n",
        "    // テストケースファイルを開く\n",
        "    fp = fopen(\"test_cases.txt\", \"r\");\n",
        "    if (fp == NULL) {\n",
        "        printf(\"テストケースファイルを開けませんでした。\\n\");\n",
        "        return 1;\n",
        "    }\n",
        "\n",
        "    printf(\"和暦変換テストを開始します\\n\");\n",
        "    printf(\"----------------------------\\n\");\n",
        "\n",
        "    // ファイルから年を読み込み、変換する\n",
        "    while (fgets(line, sizeof(line), fp) && numTests < MAX_TESTS) {\n",
        "        if (!isValidNumber(line)) {\n",
        "            printf(\"無効な入力（行 %d）: %s\", numTests + 1, line);\n",
        "            continue;\n",
        "        }\n",
        "\n",
        "        int year = atoi(line);\n",
        "        calculateEra(year, &era);\n",
        "\n",
        "        printf(\"西暦%d年 -> \", year);\n",
        "        if (strcmp(era.eraName, \"不明\") != 0) {\n",
        "            if (era.eraYear == 1) {\n",
        "                printf(\"%s元年\\n\", era.eraName);\n",
        "            } else {\n",
        "                printf(\"%s%d年\\n\", era.eraName, era.eraYear);\n",
        "            }\n",
        "        } else {\n",
        "            printf(\"対応していない年代です\\n\");\n",
        "        }\n",
        "        numTests++;\n",
        "    }\n",
        "\n",
        "    fclose(fp);\n",
        "    printf(\"----------------------------\\n\");\n",
        "    printf(\"テスト完了（有効なテストケース: %d件）\\n\", numTests);\n",
        "\n",
        "    return 0;\n",
        "}"
      ],
      "metadata": {
        "id": "R18gjJzvJsiL"
      },
      "execution_count": null,
      "outputs": []
    },
    {
      "cell_type": "code",
      "source": [
        "if compile_program():\n",
        "    run_program()"
      ],
      "metadata": {
        "id": "3ITw5ndZJs3D"
      },
      "execution_count": null,
      "outputs": []
    },
    {
      "cell_type": "markdown",
      "source": [
        "C_13 課題1 模範解答\n",
        "\n",
        "修正のポイント：\n",
        "\n",
        "\n",
        "まず、テストケースには境界値を含めるとして、推奨テストケースは以下のとおりです（test_cases.txt）：\n",
        "```\n",
        "2024\n",
        "2019\n",
        "2018\n",
        "1989\n",
        "1988\n",
        "1926\n",
        "1925\n",
        "1912\n",
        "1911\n",
        "1868\n",
        "1867\n",
        "```\n",
        "これを実施すると、以下の通り表示されます\n",
        "\n",
        "```\n",
        "> 和暦変換テストを開始します\n",
        "----------------------------\n",
        "西暦2024年 -> 令和6年\n",
        "西暦2019年 -> 令和元年\n",
        "西暦2018年 -> 平成30年\n",
        "西暦1989年 -> 昭和64年\n",
        "西暦1988年 -> 昭和63年\n",
        "西暦1926年 -> 昭和元年\n",
        "西暦1925年 -> 大正14年\n",
        "西暦1912年 -> 大正元年\n",
        "西暦1911年 -> 明治44年\n",
        "西暦1868年 -> 明治元年\n",
        "西暦1867年 -> 対応していない年代です\n",
        "----------------------------\n",
        "\n",
        "テスト完了（有効なテストケース: 11件）\n",
        "```\n",
        "\n",
        "西暦1989年 -> 平成元年　が期待値ですが、<br>\n",
        "西暦1989年 -> 昭和64年<br>\n",
        "と表示されます。<br><br>\n",
        "他の箇所は、想定どおりです。<br>\n",
        "つまり、プログラムで平成の始まりを判定する箇所にバグがあるようです。\n",
        "<br><br>\n",
        "\n",
        "calculateEra関数を見てみると、`else if (year > HEISEI_START) {`という条件式で平成年代を判定しています。これでは1989年は平成に当てはまらず、常に昭和と判断されます。`>=`に修正する必要があります。\n",
        "\n",
        "\n",
        "具体的な修正箇所：\n",
        "```c\n",
        "// 修正前\n",
        "} else if (year > HEISEI_START) {\n",
        "    strcpy(era->eraName, \"平成\");\n",
        "    era->eraYear = year - HEISEI_START + 1;\n",
        "\n",
        "// 修正後\n",
        "} else if (year >= HEISEI_START) {\n",
        "    strcpy(era->eraName, \"平成\");\n",
        "    era->eraYear = year - HEISEI_START + 1;\n",
        "```\n"
      ],
      "metadata": {
        "id": "kVHI_HnnJsw2"
      }
    },
    {
      "cell_type": "code",
      "source": [
        "# テストケース作成\n",
        "%%writefile test_cases.txt\n",
        "2025\n",
        "2019\n",
        "2018\n",
        "1989\n",
        "1988\n",
        "1926\n",
        "1925\n",
        "1912\n",
        "1911\n",
        "1868\n",
        "1867"
      ],
      "metadata": {
        "id": "3uYg_iETUkgV"
      },
      "execution_count": null,
      "outputs": []
    },
    {
      "cell_type": "code",
      "source": [
        "#@title 西暦年号変換プログラム本体 { display-mode: \"form\"}\n",
        "\n",
        "%%writefile main.c\n",
        "#include <stdio.h>\n",
        "#include <string.h>\n",
        "#include <stdlib.h>\n",
        "#include <ctype.h>\n",
        "\n",
        "// 定数の定義\n",
        "#define REIWA_START 2019\n",
        "#define HEISEI_START 1989\n",
        "#define SHOWA_START 1926\n",
        "#define TAISHO_START 1912\n",
        "#define MEIJI_START 1868\n",
        "#define ERA_NAME_LENGTH 8\n",
        "#define MAX_TESTS 100\n",
        "\n",
        "// 元号を表す構造体\n",
        "typedef struct {\n",
        "    char eraName[ERA_NAME_LENGTH];\n",
        "    int eraYear;\n",
        "} Era;\n",
        "\n",
        "// 文字列が有効な数値かチェックする関数\n",
        "int isValidNumber(const char* str) {\n",
        "    // 空文字列チェック\n",
        "    if (str[0] == '\\n' || str[0] == '\\0') {\n",
        "        return 0;\n",
        "    }\n",
        "\n",
        "    // 各文字をチェック\n",
        "    for (int i = 0; str[i] != '\\0' && str[i] != '\\n'; i++) {\n",
        "        if (!isdigit(str[i])) {\n",
        "            return 0;\n",
        "        }\n",
        "    }\n",
        "    return 1;\n",
        "}\n",
        "\n",
        "// 元号と和暦年を一度に計算する関数\n",
        "void calculateEra(int year, Era* era) {\n",
        "    if (year >= REIWA_START) {\n",
        "        strcpy(era->eraName, \"令和\");\n",
        "        era->eraYear = year - REIWA_START + 1;\n",
        "    } else if (year >= HEISEI_START) {\n",
        "        strcpy(era->eraName, \"平成\");\n",
        "        era->eraYear = year - HEISEI_START + 1;\n",
        "    } else if (year >= SHOWA_START) {\n",
        "        strcpy(era->eraName, \"昭和\");\n",
        "        era->eraYear = year - SHOWA_START + 1;\n",
        "    } else if (year >= TAISHO_START) {\n",
        "        strcpy(era->eraName, \"大正\");\n",
        "        era->eraYear = year - TAISHO_START + 1;\n",
        "    } else if (year >= MEIJI_START) {\n",
        "        strcpy(era->eraName, \"明治\");\n",
        "        era->eraYear = year - MEIJI_START + 1;\n",
        "    } else {\n",
        "        strcpy(era->eraName, \"不明\");\n",
        "        era->eraYear = 0;\n",
        "    }\n",
        "}\n",
        "\n",
        "int main() {\n",
        "    FILE *fp;\n",
        "    char line[256];\n",
        "    int numTests = 0;\n",
        "    Era era;\n",
        "\n",
        "    // テストケースファイルを開く\n",
        "    fp = fopen(\"test_cases.txt\", \"r\");\n",
        "    if (fp == NULL) {\n",
        "        printf(\"テストケースファイルを開けませんでした。\\n\");\n",
        "        return 1;\n",
        "    }\n",
        "\n",
        "    printf(\"和暦変換テストを開始します\\n\");\n",
        "    printf(\"----------------------------\\n\");\n",
        "\n",
        "    // ファイルから年を読み込み、変換する\n",
        "    while (fgets(line, sizeof(line), fp) && numTests < MAX_TESTS) {\n",
        "        if (!isValidNumber(line)) {\n",
        "            printf(\"無効な入力（行 %d）: %s\", numTests + 1, line);\n",
        "            continue;\n",
        "        }\n",
        "\n",
        "        int year = atoi(line);\n",
        "        calculateEra(year, &era);\n",
        "\n",
        "        printf(\"西暦%d年 -> \", year);\n",
        "        if (strcmp(era.eraName, \"不明\") != 0) {\n",
        "            if (era.eraYear == 1) {\n",
        "                printf(\"%s元年\\n\", era.eraName);\n",
        "            } else {\n",
        "                printf(\"%s%d年\\n\", era.eraName, era.eraYear);\n",
        "            }\n",
        "        } else {\n",
        "            printf(\"対応していない年代です\\n\");\n",
        "        }\n",
        "        numTests++;\n",
        "    }\n",
        "\n",
        "    fclose(fp);\n",
        "    printf(\"----------------------------\\n\");\n",
        "    printf(\"テスト完了（有効なテストケース: %d件）\\n\", numTests);\n",
        "\n",
        "    return 0;\n",
        "}"
      ],
      "metadata": {
        "id": "zvEmO4zQJs5_"
      },
      "execution_count": null,
      "outputs": []
    },
    {
      "cell_type": "code",
      "source": [
        "if compile_program():\n",
        "    run_program()"
      ],
      "metadata": {
        "id": "FA_pp7avUopq"
      },
      "execution_count": null,
      "outputs": []
    },
    {
      "cell_type": "markdown",
      "source": [
        "---\n",
        "C_14 課題1\n",
        "\n",
        "### 課題の概要\n",
        "以下は、西暦年号変換プログラムを3つのファイルに分割した例です。\n",
        "\n",
        "構成：<br>\n",
        "┝ convert.h<br>\n",
        "┝ convert.c<br>\n",
        "└ main.c<br>\n",
        "\n",
        "<br>\n",
        "\n",
        "ですが、main.cにある1行が欠けているため、うまく動作しません。<br>\n",
        "その1行を追加し、3つのプログラムを実行すると、期待する実行結果となるよう修正してください。\n",
        "\n",
        "<br>\n",
        "\n",
        "期待する実行結果：\n",
        "> 和暦変換テストを開始します<br>\n",
        "----------------------------<br>\n",
        "西暦2024年 -> 令和6年<br>\n",
        "西暦2019年 -> 令和元年<br>\n",
        "西暦2018年 -> 平成30年<br>\n",
        "----------------------------<br>\n",
        "テスト完了（有効なテストケース: 3件）"
      ],
      "metadata": {
        "id": "rTsFq6vcWSmk"
      }
    },
    {
      "cell_type": "code",
      "source": [
        "# テストケース作成\n",
        "%%writefile test_cases.txt\n",
        "2024\n",
        "2019\n",
        "2018"
      ],
      "metadata": {
        "id": "SMvmciEQWS98"
      },
      "execution_count": null,
      "outputs": []
    },
    {
      "cell_type": "code",
      "source": [
        "%%writefile convert.h\n",
        "// convert.h\n",
        "#pragma once\n",
        "\n",
        "// 定数の定義\n",
        "#define ERA_NAME_LENGTH 8\n",
        "\n",
        "// 元号を表す構造体\n",
        "typedef struct {\n",
        "    char eraName[ERA_NAME_LENGTH];\n",
        "    int eraYear;\n",
        "} Era;\n",
        "\n",
        "// 関数のプロトタイプ宣言\n",
        "void calculateEra(int year, Era* era);\n",
        "int isValidNumber(const char* str);"
      ],
      "metadata": {
        "id": "1S2_BG0AWTHz"
      },
      "execution_count": null,
      "outputs": []
    },
    {
      "cell_type": "code",
      "source": [
        "%%writefile convert.c\n",
        "// convert.c\n",
        "#include <string.h>\n",
        "#include <ctype.h>\n",
        "#include \"convert.h\"\n",
        "\n",
        "// 内部定数の定義（外部からは参照できない）\n",
        "static const int REIWA_START = 2019;\n",
        "static const int HEISEI_START = 1989;\n",
        "static const int SHOWA_START = 1926;\n",
        "static const int TAISHO_START = 1912;\n",
        "static const int MEIJI_START = 1868;\n",
        "\n",
        "void calculateEra(int year, Era* era) {\n",
        "    if (year >= REIWA_START) {\n",
        "        strcpy(era->eraName, \"令和\");\n",
        "        era->eraYear = year - REIWA_START + 1;\n",
        "    } else if (year >= HEISEI_START) {\n",
        "        strcpy(era->eraName, \"平成\");\n",
        "        era->eraYear = year - HEISEI_START + 1;\n",
        "    } else if (year >= SHOWA_START) {\n",
        "        strcpy(era->eraName, \"昭和\");\n",
        "        era->eraYear = year - SHOWA_START + 1;\n",
        "    } else if (year >= TAISHO_START) {\n",
        "        strcpy(era->eraName, \"大正\");\n",
        "        era->eraYear = year - TAISHO_START + 1;\n",
        "    } else if (year >= MEIJI_START) {\n",
        "        strcpy(era->eraName, \"明治\");\n",
        "        era->eraYear = year - MEIJI_START + 1;\n",
        "    } else {\n",
        "        strcpy(era->eraName, \"不明\");\n",
        "        era->eraYear = 0;\n",
        "    }\n",
        "}\n",
        "\n",
        "int isValidNumber(const char* str) {\n",
        "    // 空文字列チェック\n",
        "    if (str[0] == '\\n' || str[0] == '\\0') {\n",
        "        return 0;\n",
        "    }\n",
        "\n",
        "    // 各文字をチェック\n",
        "    for (int i = 0; str[i] != '\\0' && str[i] != '\\n'; i++) {\n",
        "        if (!isdigit(str[i])) {\n",
        "            return 0;\n",
        "        }\n",
        "    }\n",
        "    return 1;\n",
        "}"
      ],
      "metadata": {
        "id": "bs-gN5pRUqZ1"
      },
      "execution_count": null,
      "outputs": []
    },
    {
      "cell_type": "code",
      "source": [
        "%%writefile main.c\n",
        "// main.c\n",
        "#include <stdio.h>\n",
        "#include <stdlib.h>\n",
        "#include <string.h>\n",
        "\n",
        "#define MAX_TESTS 100\n",
        "\n",
        "int main() {\n",
        "    FILE *fp;\n",
        "    char line[256];\n",
        "    int numTests = 0;\n",
        "    Era era;\n",
        "\n",
        "    // テストケースファイルを開く\n",
        "    fp = fopen(\"test_cases.txt\", \"r\");\n",
        "    if (fp == NULL) {\n",
        "        printf(\"テストケースファイルを開けませんでした。\\n\");\n",
        "        return 1;\n",
        "    }\n",
        "\n",
        "    printf(\"和暦変換テストを開始します\\n\");\n",
        "    printf(\"----------------------------\\n\");\n",
        "\n",
        "    // ファイルから年を読み込み、変換する\n",
        "    while (fgets(line, sizeof(line), fp) && numTests < MAX_TESTS) {\n",
        "        if (!isValidNumber(line)) {\n",
        "            printf(\"無効な入力（行 %d）: %s\", numTests + 1, line);\n",
        "            continue;\n",
        "        }\n",
        "\n",
        "        int year = atoi(line);\n",
        "        calculateEra(year, &era);\n",
        "\n",
        "        printf(\"西暦%d年 -> \", year);\n",
        "        if (strcmp(era.eraName, \"不明\") != 0) {\n",
        "            if (era.eraYear == 1) {\n",
        "                printf(\"%s元年\\n\", era.eraName);\n",
        "            } else {\n",
        "                printf(\"%s%d年\\n\", era.eraName, era.eraYear);\n",
        "            }\n",
        "        } else {\n",
        "            printf(\"対応していない年代です\\n\");\n",
        "        }\n",
        "        numTests++;\n",
        "    }\n",
        "\n",
        "    fclose(fp);\n",
        "    printf(\"----------------------------\\n\");\n",
        "    printf(\"テスト完了（有効なテストケース: %d件）\\n\", numTests);\n",
        "\n",
        "    return 0;\n",
        "}"
      ],
      "metadata": {
        "id": "fbaIiBKKWp3j"
      },
      "execution_count": null,
      "outputs": []
    },
    {
      "cell_type": "code",
      "source": [
        "# コンパイル＆実行\n",
        "if compile_program():\n",
        "    run_program()"
      ],
      "metadata": {
        "id": "b8Hkg-blWq-a"
      },
      "execution_count": null,
      "outputs": []
    },
    {
      "cell_type": "markdown",
      "source": [
        "C_14 課題1 模範解答\n",
        "\n",
        "修正のポイント：\n",
        "\n",
        "1. main.cファイルに `#include \"convert.h\"` が欠けています。このヘッダーファイルには必要な関数と構造体の宣言が含まれています。\n",
        "\n",
        "2. 具体的なエラーは以下のようになります：\n",
        "   - `Era`構造体の定義が見つからない\n",
        "   - `isValidNumber()`関数の定義が見つからない\n",
        "   - `calculateEra()`関数の定義が見つからない\n",
        "\n",
        "3. なぜエラーが発生するのか：\n",
        "   - C言語ではソースファイル間で関数や型を使用するには、それらの宣言を含むヘッダーファイルをインクルードする必要があります\n",
        "   - `convert.h`には`Era`構造体の定義と、`isValidNumber()`および`calculateEra()`関数のプロトタイプ宣言が含まれています\n",
        "   - main.cでこれらを使用するには、`convert.h`をインクルードして定義を参照可能にする必要があります\n",
        "\n",
        "4. 修正方法：\n",
        "   - main.cの先頭の`#include`部分に`#include \"convert.h\"`を追加します\n",
        "   - これにより、convert.hで定義された構造体や関数をmain.cから使用できるようになります\n"
      ],
      "metadata": {
        "id": "7CJi7a0kXjpn"
      }
    },
    {
      "cell_type": "code",
      "source": [
        "# テストケース作成\n",
        "%%writefile test_cases.txt\n",
        "2024\n",
        "2019\n",
        "2018"
      ],
      "metadata": {
        "id": "1R55NuXpXnNc"
      },
      "execution_count": null,
      "outputs": []
    },
    {
      "cell_type": "code",
      "source": [
        "%%writefile convert.h\n",
        "// convert.h\n",
        "#pragma once\n",
        "\n",
        "// 定数の定義\n",
        "#define ERA_NAME_LENGTH 8\n",
        "\n",
        "// 元号を表す構造体\n",
        "typedef struct {\n",
        "    char eraName[ERA_NAME_LENGTH];\n",
        "    int eraYear;\n",
        "} Era;\n",
        "\n",
        "// 関数のプロトタイプ宣言\n",
        "void calculateEra(int year, Era* era);\n",
        "int isValidNumber(const char* str);"
      ],
      "metadata": {
        "id": "WGmyRUQcXnVD"
      },
      "execution_count": null,
      "outputs": []
    },
    {
      "cell_type": "code",
      "source": [
        "%%writefile convert.c\n",
        "// convert.c\n",
        "#include <string.h>\n",
        "#include <ctype.h>\n",
        "#include \"convert.h\"\n",
        "\n",
        "// 内部定数の定義（外部からは参照できない）\n",
        "static const int REIWA_START = 2019;\n",
        "static const int HEISEI_START = 1989;\n",
        "static const int SHOWA_START = 1926;\n",
        "static const int TAISHO_START = 1912;\n",
        "static const int MEIJI_START = 1868;\n",
        "\n",
        "void calculateEra(int year, Era* era) {\n",
        "    if (year >= REIWA_START) {\n",
        "        strcpy(era->eraName, \"令和\");\n",
        "        era->eraYear = year - REIWA_START + 1;\n",
        "    } else if (year >= HEISEI_START) {\n",
        "        strcpy(era->eraName, \"平成\");\n",
        "        era->eraYear = year - HEISEI_START + 1;\n",
        "    } else if (year >= SHOWA_START) {\n",
        "        strcpy(era->eraName, \"昭和\");\n",
        "        era->eraYear = year - SHOWA_START + 1;\n",
        "    } else if (year >= TAISHO_START) {\n",
        "        strcpy(era->eraName, \"大正\");\n",
        "        era->eraYear = year - TAISHO_START + 1;\n",
        "    } else if (year >= MEIJI_START) {\n",
        "        strcpy(era->eraName, \"明治\");\n",
        "        era->eraYear = year - MEIJI_START + 1;\n",
        "    } else {\n",
        "        strcpy(era->eraName, \"不明\");\n",
        "        era->eraYear = 0;\n",
        "    }\n",
        "}\n",
        "\n",
        "int isValidNumber(const char* str) {\n",
        "    // 空文字列チェック\n",
        "    if (str[0] == '\\n' || str[0] == '\\0') {\n",
        "        return 0;\n",
        "    }\n",
        "\n",
        "    // 各文字をチェック\n",
        "    for (int i = 0; str[i] != '\\0' && str[i] != '\\n'; i++) {\n",
        "        if (!isdigit(str[i])) {\n",
        "            return 0;\n",
        "        }\n",
        "    }\n",
        "    return 1;\n",
        "}"
      ],
      "metadata": {
        "id": "YXrjdc_nXnZL"
      },
      "execution_count": null,
      "outputs": []
    },
    {
      "cell_type": "code",
      "source": [
        "%%writefile main.c\n",
        "// main.c\n",
        "#include <stdio.h>\n",
        "#include <stdlib.h>\n",
        "#include <string.h>\n",
        "\n",
        "#include \"convert.h\"\n",
        "\n",
        "#define MAX_TESTS 100\n",
        "\n",
        "int main() {\n",
        "    FILE *fp;\n",
        "    char line[256];\n",
        "    int numTests = 0;\n",
        "    Era era;\n",
        "\n",
        "    // テストケースファイルを開く\n",
        "    fp = fopen(\"test_cases.txt\", \"r\");\n",
        "    if (fp == NULL) {\n",
        "        printf(\"テストケースファイルを開けませんでした。\\n\");\n",
        "        return 1;\n",
        "    }\n",
        "\n",
        "    printf(\"和暦変換テストを開始します\\n\");\n",
        "    printf(\"----------------------------\\n\");\n",
        "\n",
        "    // ファイルから年を読み込み、変換する\n",
        "    while (fgets(line, sizeof(line), fp) && numTests < MAX_TESTS) {\n",
        "        if (!isValidNumber(line)) {\n",
        "            printf(\"無効な入力（行 %d）: %s\", numTests + 1, line);\n",
        "            continue;\n",
        "        }\n",
        "\n",
        "        int year = atoi(line);\n",
        "        calculateEra(year, &era);\n",
        "\n",
        "        printf(\"西暦%d年 -> \", year);\n",
        "        if (strcmp(era.eraName, \"不明\") != 0) {\n",
        "            if (era.eraYear == 1) {\n",
        "                printf(\"%s元年\\n\", era.eraName);\n",
        "            } else {\n",
        "                printf(\"%s%d年\\n\", era.eraName, era.eraYear);\n",
        "            }\n",
        "        } else {\n",
        "            printf(\"対応していない年代です\\n\");\n",
        "        }\n",
        "        numTests++;\n",
        "    }\n",
        "\n",
        "    fclose(fp);\n",
        "    printf(\"----------------------------\\n\");\n",
        "    printf(\"テスト完了（有効なテストケース: %d件）\\n\", numTests);\n",
        "\n",
        "    return 0;\n",
        "}"
      ],
      "metadata": {
        "id": "CeTFY_qpXqGJ"
      },
      "execution_count": null,
      "outputs": []
    },
    {
      "cell_type": "code",
      "source": [
        "# コンパイル＆実行\n",
        "if compile_program():\n",
        "    run_program()"
      ],
      "metadata": {
        "id": "PBTKweJIXtra"
      },
      "execution_count": null,
      "outputs": []
    }
  ]
}
